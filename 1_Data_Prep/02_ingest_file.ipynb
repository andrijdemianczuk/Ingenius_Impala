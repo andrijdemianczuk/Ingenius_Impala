{
 "cells": [
  {
   "cell_type": "code",
   "execution_count": 0,
   "metadata": {
    "application/vnd.databricks.v1+cell": {
     "cellMetadata": {
      "byteLimit": 2048000,
      "rowLimit": 10000
     },
     "inputWidgets": {},
     "nuid": "4e1e6ed2-f9f3-471b-a3c4-869132286847",
     "showTitle": false,
     "tableResultSettingsMap": {},
     "title": ""
    }
   },
   "outputs": [],
   "source": [
    "from pyspark.sql import *\n",
    "from pyspark.sql.types import *\n",
    "from pyspark.sql.functions import *\n",
    "import re"
   ]
  },
  {
   "cell_type": "code",
   "execution_count": 0,
   "metadata": {
    "application/vnd.databricks.v1+cell": {
     "cellMetadata": {
      "byteLimit": 2048000,
      "rowLimit": 10000
     },
     "inputWidgets": {},
     "nuid": "29d91f73-bd39-46c8-8ba4-af7cc6728248",
     "showTitle": false,
     "tableResultSettingsMap": {},
     "title": ""
    }
   },
   "outputs": [],
   "source": [
    "catalog = \"ademianczuk\"\n",
    "database = \"ncr\"\n",
    "table = f\"{catalog}.{database}.csv_copy_progress\"\n",
    "src_dir = f\"/Volumes/{catalog}/{database}/data/csv\"\n",
    "dst_dir = f\"/Volumes/{catalog}/{database}/data/loader\"\n",
    "\n",
    "dbutils.fs.mkdirs(dst_dir)\n",
    "\n",
    "# # Create table once\n",
    "# spark.sql(f\"\"\"\n",
    "# CREATE TABLE IF NOT EXISTS {table} (\n",
    "#   filename STRING,\n",
    "#   seq INT,\n",
    "#   status STRING,\n",
    "#   copied_at TIMESTAMP\n",
    "# ) USING DELTA\n",
    "# \"\"\")\n",
    "\n",
    "# def is_month_csv(name):\n",
    "#     return name.startswith(\"month_\") and name.endswith(\".csv\")\n",
    "\n",
    "# def month_key(name):\n",
    "#     m = re.search(r\"month[_-](\\d{2})\\.csv$\", name)\n",
    "#     return int(m.group(1)) if m else 9999\n",
    "\n",
    "# src_files = [f for f in dbutils.fs.ls(src_dir) if is_month_csv(f.name)]\n",
    "# src_files = sorted(src_files, key=lambda f: month_key(f.name))\n",
    "\n",
    "# if not src_files:\n",
    "#     raise RuntimeError(f\"No month_*.csv files found in {src_dir}\")\n",
    "\n",
    "# # Compute next seq by counting distinct filenames already logged as \"done\"\n",
    "# done = spark.table(table).filter(col(\"status\") == \"done\").select(\"filename\").distinct().collect()\n",
    "# done_set = {r.filename for r in done}\n",
    "\n",
    "# # Determine the next file (first in order not yet “done”)\n",
    "# pending = [f for f in src_files if f.name not in done_set]\n",
    "\n",
    "# if not pending:\n",
    "#     print(f\"Nothing to do. All {len(src_files)} files already copied.\")\n",
    "# else:\n",
    "#     src = pending[0]\n",
    "#     dst = f\"{dst_dir}/{src.name}\"\n",
    "\n",
    "#     # Idempotent copy\n",
    "#     exists = False\n",
    "#     try:\n",
    "#         _ = dbutils.fs.ls(dst)\n",
    "#         exists = True\n",
    "#     except Exception:\n",
    "#         exists = False\n",
    "\n",
    "#     if not exists:\n",
    "#         dbutils.fs.cp(src.path, dst)\n",
    "#         status = \"done\"\n",
    "#         print(f\"Copied: {src.path}  ->  {dst}\")\n",
    "#     else:\n",
    "#         status = \"already_present\"\n",
    "#         print(f\"Already present, logging and skipping: {dst}\")\n",
    "\n",
    "#     # Append a log row\n",
    "#     seq_num = 1 + spark.table(table).count()\n",
    "#     spark.createDataFrame(\n",
    "#         [Row(filename=src.name, seq=seq_num, status=status)]\n",
    "#     ).withColumn(\"copied_at\", expr(\"current_timestamp()\")) \\\n",
    "#      .write.mode(\"append\").saveAsTable(table)\n",
    "\n",
    "#     remaining = len(pending) - 1\n",
    "#     print(f\"Progress: {len(done_set) + 1}/{len(src_files)} copied. {remaining} remaining.\")"
   ]
  }
 ],
 "metadata": {
  "application/vnd.databricks.v1+notebook": {
   "computePreferences": null,
   "dashboards": [],
   "environmentMetadata": {
    "base_environment": "",
    "environment_version": "3"
   },
   "inputWidgetPreferences": null,
   "language": "python",
   "notebookMetadata": {
    "pythonIndentUnit": 2
   },
   "notebookName": "02_ingest_file",
   "widgets": {}
  },
  "language_info": {
   "name": "python"
  }
 },
 "nbformat": 4,
 "nbformat_minor": 0
}
